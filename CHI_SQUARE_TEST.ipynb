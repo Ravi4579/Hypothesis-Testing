{
  "nbformat": 4,
  "nbformat_minor": 0,
  "metadata": {
    "colab": {
      "provenance": []
    },
    "kernelspec": {
      "name": "python3",
      "display_name": "Python 3"
    },
    "language_info": {
      "name": "python"
    }
  },
  "cells": [
    {
      "cell_type": "markdown",
      "source": [
        "# CHI-SQUARE TEST"
      ],
      "metadata": {
        "id": "dkPjNNZwMeJO"
      }
    },
    {
      "cell_type": "markdown",
      "source": [
        "Association between Device Type and Customer Satisfaction"
      ],
      "metadata": {
        "id": "Qw2WpOUgM3Io"
      }
    },
    {
      "cell_type": "code",
      "execution_count": 84,
      "metadata": {
        "id": "wAaii_8kMT1-"
      },
      "outputs": [],
      "source": [
        "# Ravi Kiran Mahoorkar\n",
        "#importing libraries\n",
        "import numpy as np\n",
        "from scipy import stats"
      ]
    },
    {
      "cell_type": "code",
      "source": [
        "#dataset\n",
        "df=np.array([\n",
        "    [50, 70],  # Very Satisfied\n",
        "    [80, 100], # Satisfied\n",
        "    [60, 90],  # Neutral\n",
        "    [30, 50],  # Unsatisfied\n",
        "    [20, 50]   # Very Unsatisfied\n",
        "])"
      ],
      "metadata": {
        "id": "oTpPrI66MlQL"
      },
      "execution_count": 85,
      "outputs": []
    },
    {
      "cell_type": "code",
      "source": [
        "# 1. State the Hypotheses:\n",
        "'''\n",
        "H0 (Null Hypothesis): There is no association between device type and customer satisfaction.\n",
        "H1 (Alternative Hypothesis): There is an association between device type and customer satisfaction.\n",
        "'''"
      ],
      "metadata": {
        "colab": {
          "base_uri": "https://localhost:8080/",
          "height": 53
        },
        "id": "RyqllGzpNIeT",
        "outputId": "c85ca068-a989-446d-a722-4bbfa63fcd3b"
      },
      "execution_count": 86,
      "outputs": [
        {
          "output_type": "execute_result",
          "data": {
            "text/plain": [
              "'\\nH0 (Null Hypothesis): There is no association between device type and customer satisfaction.\\nH1 (Alternative Hypothesis): There is an association between device type and customer satisfaction.\\n'"
            ],
            "application/vnd.google.colaboratory.intrinsic+json": {
              "type": "string"
            }
          },
          "metadata": {},
          "execution_count": 86
        }
      ]
    },
    {
      "cell_type": "markdown",
      "source": [
        "# Type 1"
      ],
      "metadata": {
        "id": "uPdC7cvrZ-rC"
      }
    },
    {
      "cell_type": "code",
      "source": [
        "#2. Computing Chi-Square Statistic:\n",
        "#Total for each row and column\n",
        "row_totals = df.sum(axis=1)\n",
        "col_totals = df.sum(axis=0)\n",
        "grand_total = df.sum()"
      ],
      "metadata": {
        "id": "9BvjBG2RZzIm"
      },
      "execution_count": 87,
      "outputs": []
    },
    {
      "cell_type": "code",
      "source": [
        "#Expected Values\n",
        "expected = np.zeros_like(df)\n",
        "for i in range(df.shape[0]):\n",
        "    for j in range(df.shape[1]):\n",
        "        expected[i, j] = (row_totals[i] * col_totals[j]) / grand_total"
      ],
      "metadata": {
        "id": "hhbOhbbjaM4W"
      },
      "execution_count": 88,
      "outputs": []
    },
    {
      "cell_type": "code",
      "source": [
        "#Chi-Square Statistic\n",
        "chi2_statistic = np.sum(((df - expected)**2) / expected)\n",
        "print(\"Chi-Square Statistic:\", chi2_statistic)"
      ],
      "metadata": {
        "colab": {
          "base_uri": "https://localhost:8080/"
        },
        "id": "JBM0Q_R6aQD7",
        "outputId": "49c174f6-4868-4d6b-a947-0b80c80726ec"
      },
      "execution_count": 89,
      "outputs": [
        {
          "output_type": "stream",
          "name": "stdout",
          "text": [
            "Chi-Square Statistic: 5.638227513227513\n"
          ]
        }
      ]
    },
    {
      "cell_type": "code",
      "source": [
        "#Degrees of Freedom\n",
        "# dof=(Number of Rows−1)×(Number of Columns−1)\n",
        "dof = (df.shape[0] - 1) * (df.shape[1] - 1)\n",
        "print(\"Degrees of Freedom:\", dof)"
      ],
      "metadata": {
        "colab": {
          "base_uri": "https://localhost:8080/"
        },
        "id": "xj1jfnngaooz",
        "outputId": "25ac0bb5-ab54-4a72-8fb4-e6a993496a0a"
      },
      "execution_count": 90,
      "outputs": [
        {
          "output_type": "stream",
          "name": "stdout",
          "text": [
            "Degrees of Freedom: 4\n"
          ]
        }
      ]
    },
    {
      "cell_type": "code",
      "source": [
        "#P-value\n",
        "p_value = 1 - stats.chi2.cdf(chi2_statistic, dof)\n",
        "print(\"P-value:\", p_value)"
      ],
      "metadata": {
        "colab": {
          "base_uri": "https://localhost:8080/"
        },
        "id": "RmUOwKYpaqBL",
        "outputId": "fddbbe95-314b-4926-c97b-a449aabcda3f"
      },
      "execution_count": 91,
      "outputs": [
        {
          "output_type": "stream",
          "name": "stdout",
          "text": [
            "P-value: 0.22784371130697179\n"
          ]
        }
      ]
    },
    {
      "cell_type": "code",
      "source": [
        "# 3. Determine the Critical Value at alpha = 0.05\n",
        "alpha = 0.05  # significance level\n",
        "critical_value = stats.chi2.ppf(1 - alpha, dof)\n",
        "print(\"Critical Value:\", critical_value)"
      ],
      "metadata": {
        "colab": {
          "base_uri": "https://localhost:8080/"
        },
        "id": "osL5SPnMawXH",
        "outputId": "2f9efbd9-59fd-4906-db54-b6e86e6bd538"
      },
      "execution_count": 92,
      "outputs": [
        {
          "output_type": "stream",
          "name": "stdout",
          "text": [
            "Critical Value: 9.487729036781154\n"
          ]
        }
      ]
    },
    {
      "cell_type": "code",
      "source": [
        "# 4. Decision according to Chi-Square statistic with the critical value\n",
        "reject_null = chi2_statistic > critical_value\n",
        "if chi2_statistic > critical_value:\n",
        "    print(\"Reject the null hypothesis (Accept Alternative Hypothesis). There is a significant association between device type and customer satisfaction.\")\n",
        "else:\n",
        "    print(\"Fail to reject the null hypothesis (Accept Null Hypothesis). There is no significant association between device type and customer satisfaction.\")"
      ],
      "metadata": {
        "colab": {
          "base_uri": "https://localhost:8080/"
        },
        "id": "lhtJptUja5iz",
        "outputId": "57914197-1e46-42d1-d6fc-1ebd39221368"
      },
      "execution_count": 93,
      "outputs": [
        {
          "output_type": "stream",
          "name": "stdout",
          "text": [
            "Fail to reject the null hypothesis (Accept Null Hypothesis). There is no significant association between device type and customer satisfaction.\n"
          ]
        }
      ]
    },
    {
      "cell_type": "code",
      "source": [
        "# 4. Decision according to p_value and alpha\n",
        "if p_value < alpha:\n",
        "    print(\"Accept Alternative Hypothesis. There is a significant association between device type and customer satisfaction.\")\n",
        "else:\n",
        "    print(\"Accept Null Hypothesis. There is no significant association between device type and customer satisfaction.\")"
      ],
      "metadata": {
        "colab": {
          "base_uri": "https://localhost:8080/"
        },
        "id": "taHYvYAWa-hy",
        "outputId": "f453d22f-75f1-4fdb-c6f6-26731b064632"
      },
      "execution_count": 94,
      "outputs": [
        {
          "output_type": "stream",
          "name": "stdout",
          "text": [
            "Accept Null Hypothesis. There is no significant association between device type and customer satisfaction.\n"
          ]
        }
      ]
    },
    {
      "cell_type": "markdown",
      "source": [
        "# Type 2"
      ],
      "metadata": {
        "id": "dyFiK_N2aHgm"
      }
    },
    {
      "cell_type": "code",
      "source": [
        "#2. Compute the Chi-Square Statistic:\n",
        "# Module to perform a Chi-Square Test of Independence\n",
        "chi2_stat, p_value, dof, expected = stats.chi2_contingency(df)\n",
        "print(f\"Chi-Square Statistic: {chi2_stat}\")\n",
        "print(f\"P-value: {p_value}\")\n",
        "print(f\"Degrees of Freedom: {dof}\")"
      ],
      "metadata": {
        "colab": {
          "base_uri": "https://localhost:8080/"
        },
        "id": "0V2-c4n_NuvJ",
        "outputId": "5fe15eb3-db66-431d-dc7f-a637272af0eb"
      },
      "execution_count": 95,
      "outputs": [
        {
          "output_type": "stream",
          "name": "stdout",
          "text": [
            "Chi-Square Statistic: 5.638227513227513\n",
            "P-value: 0.22784371130697179\n",
            "Degrees of Freedom: 4\n"
          ]
        }
      ]
    },
    {
      "cell_type": "code",
      "source": [
        "# 3. Determine the Critical Value at alpha = 0.05\n",
        "alpha = 0.05\n",
        "critical_value = stats.chi2.ppf(1 - alpha, dof)\n",
        "critical_value"
      ],
      "metadata": {
        "colab": {
          "base_uri": "https://localhost:8080/"
        },
        "id": "Q6qIFUOSOTpv",
        "outputId": "a8353d3e-519a-4be7-9225-e7f83d3cc6a0"
      },
      "execution_count": 96,
      "outputs": [
        {
          "output_type": "execute_result",
          "data": {
            "text/plain": [
              "9.487729036781154"
            ]
          },
          "metadata": {},
          "execution_count": 96
        }
      ]
    },
    {
      "cell_type": "code",
      "source": [
        "# 4. Decision according to Chi-Square statistic with the critical value\n",
        "reject_null = chi2_stat > critical_value\n",
        "if chi2_stat > critical_value:\n",
        "    print(\"Reject the null hypothesis (Accept Alternative Hypothesis). There is a significant association between device type and customer satisfaction.\")\n",
        "else:\n",
        "    print(\"Fail to reject the null hypothesis (Accept Null Hypothesis). There is no significant association between device type and customer satisfaction.\")"
      ],
      "metadata": {
        "colab": {
          "base_uri": "https://localhost:8080/"
        },
        "id": "8G0REHQGRvVe",
        "outputId": "92a72c06-1864-4092-9c68-fb3ee1cb034b"
      },
      "execution_count": 97,
      "outputs": [
        {
          "output_type": "stream",
          "name": "stdout",
          "text": [
            "Fail to reject the null hypothesis (Accept Null Hypothesis). There is no significant association between device type and customer satisfaction.\n"
          ]
        }
      ]
    },
    {
      "cell_type": "code",
      "source": [
        "# 4. Decision according to p_value and alpha\n",
        "if p_value < alpha:\n",
        "    print(\"Accept Alternative Hypothesis. There is a significant association between device type and customer satisfaction.\")\n",
        "else:\n",
        "    print(\"Accept Null Hypothesis. There is no significant association between device type and customer satisfaction.\")"
      ],
      "metadata": {
        "colab": {
          "base_uri": "https://localhost:8080/"
        },
        "id": "kDMeeLS2OXLB",
        "outputId": "7cc86331-372a-4ff8-c26a-83c11628bf2b"
      },
      "execution_count": 98,
      "outputs": [
        {
          "output_type": "stream",
          "name": "stdout",
          "text": [
            "Accept Null Hypothesis. There is no significant association between device type and customer satisfaction.\n"
          ]
        }
      ]
    },
    {
      "cell_type": "code",
      "source": [
        "# Conclusion\n",
        "'''\n",
        "The chi-square test of Independence was conducted to determine, if there is a significant association between device type and customer satisfaction.\n",
        "Both manual calculation and `scipy.stats.chi2_contingency`  produced the same results.\n",
        "Based on the calculated chi-square statistic, degrees of freedom, and p-value, and comparing against a critical value at alpha = 0.05.\n",
        "The null hypothesis (no association between device type and customer satisfaction) was to failed to be rejected(Accept Null Hypothesis).\n",
        "'''"
      ],
      "metadata": {
        "colab": {
          "base_uri": "https://localhost:8080/",
          "height": 70
        },
        "id": "kywh8q7mOiKE",
        "outputId": "dec342f6-4d29-4b9a-a83c-2d0d739c3372"
      },
      "execution_count": 99,
      "outputs": [
        {
          "output_type": "execute_result",
          "data": {
            "text/plain": [
              "'\\nThe chi-square test of Independence was conducted to determine, if there is a significant association between device type and customer satisfaction.  \\nBoth manual calculation and `scipy.stats.chi2_contingency`  produced the same results. \\nBased on the calculated chi-square statistic, degrees of freedom, and p-value, and comparing against a critical value at alpha = 0.05.\\nThe null hypothesis (no association between device type and customer satisfaction) was to failed to be rejected(Accept Null Hypothesis). \\n'"
            ],
            "application/vnd.google.colaboratory.intrinsic+json": {
              "type": "string"
            }
          },
          "metadata": {},
          "execution_count": 99
        }
      ]
    }
  ]
}