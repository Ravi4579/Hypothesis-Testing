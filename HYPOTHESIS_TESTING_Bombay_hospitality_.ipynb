{
  "nbformat": 4,
  "nbformat_minor": 0,
  "metadata": {
    "colab": {
      "provenance": []
    },
    "kernelspec": {
      "name": "python3",
      "display_name": "Python 3"
    },
    "language_info": {
      "name": "python"
    }
  },
  "cells": [
    {
      "cell_type": "markdown",
      "source": [
        "# HYPOTHESIS_TESTING"
      ],
      "metadata": {
        "id": "ZMPJn7uu7cDP"
      }
    },
    {
      "cell_type": "markdown",
      "source": [
        "Objective:\n",
        "To investigate the restaurant owners' claim about the increase in weekly operating costs using hypothesis testing."
      ],
      "metadata": {
        "id": "YvaYSCHH7Yqp"
      }
    },
    {
      "cell_type": "code",
      "execution_count": 71,
      "metadata": {
        "id": "qQRHz5Rq50Kt"
      },
      "outputs": [],
      "source": [
        "# Ravi Kiran Mahoorkar\n",
        "# Importing Libraries\n",
        "from scipy import stats\n",
        "from scipy.stats import norm\n",
        "import math"
      ]
    },
    {
      "cell_type": "code",
      "source": [
        "#1. State the Hypotheses statement:\n",
        "'''\n",
        "Null Hypothesis (H₀): The average weekly operating cost is equal to the theoretical cost model.\n",
        "Alternative Hypothesis (H₁): The average weekly operating cost is greater than the theoretical cost model.\n",
        "'''"
      ],
      "metadata": {
        "colab": {
          "base_uri": "https://localhost:8080/",
          "height": 53
        },
        "id": "pSeS5V2c7sKP",
        "outputId": "4146d639-c303-471a-bca9-e3621a8c3ac2"
      },
      "execution_count": 72,
      "outputs": [
        {
          "output_type": "execute_result",
          "data": {
            "text/plain": [
              "'\\nNull Hypothesis (H₀): The average weekly operating cost is equal to the theoretical cost model.\\nAlternative Hypothesis (H₁): The average weekly operating cost is greater than the theoretical cost model.\\n'"
            ],
            "application/vnd.google.colaboratory.intrinsic+json": {
              "type": "string"
            }
          },
          "metadata": {},
          "execution_count": 72
        }
      ]
    },
    {
      "cell_type": "code",
      "source": [
        "#Data Provided:\n",
        "sample_mean = 3050  # in Rs.\n",
        "theoretical_mean = 4000  # in Rs.\n",
        "std_dev = 5 * 25  # in Rs.\n",
        "sample_size = 25\n",
        "alpha = 0.05"
      ],
      "metadata": {
        "id": "9BNm2mXY6Lis"
      },
      "execution_count": 73,
      "outputs": []
    },
    {
      "cell_type": "code",
      "source": [
        "#2 Calculate the test statistic\n",
        "standard_error = std_dev / math.sqrt(sample_size)\n",
        "test_statistic = (sample_mean - theoretical_mean) / standard_error\n",
        "test_statistic"
      ],
      "metadata": {
        "colab": {
          "base_uri": "https://localhost:8080/"
        },
        "id": "9Crs_f6l8B5W",
        "outputId": "f062c628-1303-42b0-c960-f4d7ba852566"
      },
      "execution_count": 74,
      "outputs": [
        {
          "output_type": "execute_result",
          "data": {
            "text/plain": [
              "-38.0"
            ]
          },
          "metadata": {},
          "execution_count": 74
        }
      ]
    },
    {
      "cell_type": "code",
      "source": [
        "# Degrees of freedom\n",
        "dof = sample_size - 1\n",
        "dof"
      ],
      "metadata": {
        "colab": {
          "base_uri": "https://localhost:8080/"
        },
        "id": "3VfEU5My8Pzv",
        "outputId": "da0a6567-4b3b-4208-a9f0-5b0454b2dda8"
      },
      "execution_count": 75,
      "outputs": [
        {
          "output_type": "execute_result",
          "data": {
            "text/plain": [
              "24"
            ]
          },
          "metadata": {},
          "execution_count": 75
        }
      ]
    },
    {
      "cell_type": "code",
      "source": [
        "#3 Critical value for one-tailed test\n",
        "critical_value = norm.ppf(1 - alpha)\n",
        "critical_value"
      ],
      "metadata": {
        "colab": {
          "base_uri": "https://localhost:8080/"
        },
        "id": "Osdy_PrW8ReZ",
        "outputId": "2f5c44e2-b849-43a4-f0de-8c384966924e"
      },
      "execution_count": 76,
      "outputs": [
        {
          "output_type": "execute_result",
          "data": {
            "text/plain": [
              "1.6448536269514722"
            ]
          },
          "metadata": {},
          "execution_count": 76
        }
      ]
    },
    {
      "cell_type": "code",
      "source": [
        "#4 Decision\n",
        "if test_statistic > critical_value:\n",
        "    print(\"Reject the null hypothesis\")\n",
        "else:\n",
        "    print(\"Fail to reject the null hypothesis\")"
      ],
      "metadata": {
        "colab": {
          "base_uri": "https://localhost:8080/"
        },
        "id": "S5u5ugMT8f07",
        "outputId": "ec60e378-eb02-40a5-c7cf-f6744b2dbb52"
      },
      "execution_count": 77,
      "outputs": [
        {
          "output_type": "stream",
          "name": "stdout",
          "text": [
            "Fail to reject the null hypothesis\n"
          ]
        }
      ]
    },
    {
      "cell_type": "code",
      "source": [
        "#5 Conclusion\n",
        "'''\n",
        "Based on the calculated test statistic (t=−38.0) and the critical value (Z _critical=1.645), we fail to reject the null hypothesis.\n",
        "There is insufficient evidence to support the restaurant owners' claim that the weekly operating costs are higher than what the theoretical model predicts.\n",
        "This means the observed data does not provide strong enough evidence to conclude that the weekly operating costs have increased.\n",
        "'''"
      ],
      "metadata": {
        "colab": {
          "base_uri": "https://localhost:8080/",
          "height": 70
        },
        "id": "rwctmQYKFGM6",
        "outputId": "79d26ac3-6994-419c-8dee-07474f0e9378"
      },
      "execution_count": 78,
      "outputs": [
        {
          "output_type": "execute_result",
          "data": {
            "text/plain": [
              "\"\\nBased on the calculated test statistic (t=−38.0) and the critical value (Z _critical=1.645), we fail to reject the null hypothesis.\\nThere is insufficient evidence to support the restaurant owners' claim that the weekly operating costs are higher than what the theoretical model predicts.\\nThis means the observed data does not provide strong enough evidence to conclude that the weekly operating costs have increased.\\n\""
            ],
            "application/vnd.google.colaboratory.intrinsic+json": {
              "type": "string"
            }
          },
          "metadata": {},
          "execution_count": 78
        }
      ]
    }
  ]
}