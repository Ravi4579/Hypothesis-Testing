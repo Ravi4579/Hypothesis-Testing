{
  "nbformat": 4,
  "nbformat_minor": 0,
  "metadata": {
    "colab": {
      "provenance": []
    },
    "kernelspec": {
      "name": "python3",
      "display_name": "Python 3"
    },
    "language_info": {
      "name": "python"
    }
  },
  "cells": [
    {
      "cell_type": "markdown",
      "source": [
        "# Estimation And Confidence Intervals"
      ],
      "metadata": {
        "id": "N58MzmfGHkqX"
      }
    },
    {
      "cell_type": "code",
      "execution_count": 75,
      "metadata": {
        "id": "AfPUB5xjFrpc"
      },
      "outputs": [],
      "source": [
        "# Ravi Kiran Mahoorkar\n",
        "#importing libraries\n",
        "import numpy as np\n",
        "from scipy import stats"
      ]
    },
    {
      "cell_type": "code",
      "source": [
        "#sample data in millions\n",
        "sample = 1.13, 1.55, 1.43, 0.92, 1.25, 1.36, 1.32, 0.85, 1.07, 1.48, 1.20, 1.33, 1.18, 1.22, 1.29"
      ],
      "metadata": {
        "id": "_Gx2aLb0HEXI"
      },
      "execution_count": 76,
      "outputs": []
    },
    {
      "cell_type": "code",
      "source": [
        "#converting sample data into array\n",
        "sample=np.array(sample)\n",
        "sample"
      ],
      "metadata": {
        "colab": {
          "base_uri": "https://localhost:8080/"
        },
        "id": "N5NRxWMaHK8P",
        "outputId": "2be13770-c631-4bca-838e-93c4701ba997"
      },
      "execution_count": 77,
      "outputs": [
        {
          "output_type": "execute_result",
          "data": {
            "text/plain": [
              "array([1.13, 1.55, 1.43, 0.92, 1.25, 1.36, 1.32, 0.85, 1.07, 1.48, 1.2 ,\n",
              "       1.33, 1.18, 1.22, 1.29])"
            ]
          },
          "metadata": {},
          "execution_count": 77
        }
      ]
    },
    {
      "cell_type": "code",
      "source": [
        "#sample length\n",
        "sapmle_len=len(sample)\n",
        "sapmle_len"
      ],
      "metadata": {
        "colab": {
          "base_uri": "https://localhost:8080/"
        },
        "id": "wcv0qLlPHNY2",
        "outputId": "2e4d79ef-c75f-44bf-d139-840e498e6e7a"
      },
      "execution_count": 78,
      "outputs": [
        {
          "output_type": "execute_result",
          "data": {
            "text/plain": [
              "15"
            ]
          },
          "metadata": {},
          "execution_count": 78
        }
      ]
    },
    {
      "cell_type": "code",
      "source": [
        "#sample mean\n",
        "sample_mean=np.mean(sample)\n",
        "sample_mean"
      ],
      "metadata": {
        "colab": {
          "base_uri": "https://localhost:8080/"
        },
        "id": "mfRi_PKeI5mr",
        "outputId": "5c6c6f5f-0647-4df3-de63-417ebf1df73c"
      },
      "execution_count": 79,
      "outputs": [
        {
          "output_type": "execute_result",
          "data": {
            "text/plain": [
              "1.2386666666666666"
            ]
          },
          "metadata": {},
          "execution_count": 79
        }
      ]
    },
    {
      "cell_type": "code",
      "source": [
        "#sample standard deviation\n",
        "sample_std=np.std(sample, ddof=1)\n",
        "sample_std"
      ],
      "metadata": {
        "colab": {
          "base_uri": "https://localhost:8080/"
        },
        "id": "Rt3YR7dKLIWR",
        "outputId": "0642abe8-0fd6-48de-8493-41e0205b1355"
      },
      "execution_count": 80,
      "outputs": [
        {
          "output_type": "execute_result",
          "data": {
            "text/plain": [
              "0.19316412956959936"
            ]
          },
          "metadata": {},
          "execution_count": 80
        }
      ]
    },
    {
      "cell_type": "markdown",
      "source": [
        "# a. Build 99% Confidence Interval Using Sample Standard Deviation"
      ],
      "metadata": {
        "id": "XdINZpnVI0iP"
      }
    },
    {
      "cell_type": "code",
      "source": [
        "#what we know\n",
        "'''\n",
        "Here we will be using t-distribution, as the the sample size is less than 30.\n",
        "ans we also dont know the population standard deviation.\n",
        "'''"
      ],
      "metadata": {
        "colab": {
          "base_uri": "https://localhost:8080/",
          "height": 36
        },
        "id": "qzll0zrNIz-E",
        "outputId": "f4d58149-c4a3-4c20-f276-c287bf1f33c1"
      },
      "execution_count": 81,
      "outputs": [
        {
          "output_type": "execute_result",
          "data": {
            "text/plain": [
              "'\\nHere we will be using t-distribution, as the the sample size is less than 30.\\nans we also dont know the population standard deviation.\\n'"
            ],
            "application/vnd.google.colaboratory.intrinsic+json": {
              "type": "string"
            }
          },
          "metadata": {},
          "execution_count": 81
        }
      ]
    },
    {
      "cell_type": "code",
      "source": [
        "#confidence intervel and dof\n",
        "confidence_level=0.99\n",
        "degrees_of_freedom=sapmle_len-1"
      ],
      "metadata": {
        "id": "wdAyBsW0HTrr"
      },
      "execution_count": 82,
      "outputs": []
    },
    {
      "cell_type": "code",
      "source": [
        "#Finding critical t value\n",
        "t_value = stats.t.ppf((1 + confidence_level) / 2, df=sapmle_len - 1)"
      ],
      "metadata": {
        "id": "16fF48H0JwLx"
      },
      "execution_count": 83,
      "outputs": []
    },
    {
      "cell_type": "code",
      "source": [
        "# Margin of Error\n",
        "margin_of_error = t_value * (sample_std / np.sqrt(sapmle_len))\n",
        "margin_of_error"
      ],
      "metadata": {
        "colab": {
          "base_uri": "https://localhost:8080/"
        },
        "id": "ovehTyWpKThx",
        "outputId": "946e5dfd-fd4b-403a-c18e-a5fe4d478a72"
      },
      "execution_count": 84,
      "outputs": [
        {
          "output_type": "execute_result",
          "data": {
            "text/plain": [
              "0.14846932822817596"
            ]
          },
          "metadata": {},
          "execution_count": 84
        }
      ]
    },
    {
      "cell_type": "code",
      "source": [
        "# Confidence Interval\n",
        "lower_bound = sample_mean - margin_of_error\n",
        "upper_bound = sample_mean + margin_of_error\n",
        "\n",
        "print(f\"Confidence Interval: ({lower_bound}, {upper_bound})\")"
      ],
      "metadata": {
        "colab": {
          "base_uri": "https://localhost:8080/"
        },
        "id": "E2Kuk0oALRXh",
        "outputId": "3095c449-173c-4151-f6ee-f67fac32c16d"
      },
      "execution_count": 85,
      "outputs": [
        {
          "output_type": "stream",
          "name": "stdout",
          "text": [
            "Confidence Interval: (1.0901973384384906, 1.3871359948948425)\n"
          ]
        }
      ]
    },
    {
      "cell_type": "code",
      "source": [
        "#Findings\n",
        "'''\n",
        "With 99% confidence, the true mean durability of print-heads lies between 1.0902 million and 1.3871 million characters.\n",
        "'''"
      ],
      "metadata": {
        "colab": {
          "base_uri": "https://localhost:8080/",
          "height": 36
        },
        "id": "BYmDbkjkQ5Jy",
        "outputId": "56d1091e-210a-43d5-edbf-42080b1f7d23"
      },
      "execution_count": 86,
      "outputs": [
        {
          "output_type": "execute_result",
          "data": {
            "text/plain": [
              "'\\nWith 99% confidence, the true mean durability of print-heads lies between 1.0902 million and 1.3871 million characters.\\n'"
            ],
            "application/vnd.google.colaboratory.intrinsic+json": {
              "type": "string"
            }
          },
          "metadata": {},
          "execution_count": 86
        }
      ]
    },
    {
      "cell_type": "markdown",
      "source": [
        "# b. Build 99% Confidence Interval Using Known Population Standard Deviation"
      ],
      "metadata": {
        "id": "D-AGiYSZNVDF"
      }
    },
    {
      "cell_type": "code",
      "source": [
        "#what we know\n",
        "'''\n",
        "Here we will be using z-distribution, as the the sample size is less than 30.\n",
        "ans we also know the population standard deviation.\n",
        "'''"
      ],
      "metadata": {
        "colab": {
          "base_uri": "https://localhost:8080/",
          "height": 36
        },
        "id": "DchjipYQQjM_",
        "outputId": "d246b384-e2cd-441f-dbb2-1308ea866352"
      },
      "execution_count": 87,
      "outputs": [
        {
          "output_type": "execute_result",
          "data": {
            "text/plain": [
              "'\\nHere we will be using z-distribution, as the the sample size is less than 30.\\nans we also know the population standard deviation.\\n'"
            ],
            "application/vnd.google.colaboratory.intrinsic+json": {
              "type": "string"
            }
          },
          "metadata": {},
          "execution_count": 87
        }
      ]
    },
    {
      "cell_type": "code",
      "source": [
        "#sample mean\n",
        "sample_mean=np.mean(sample)\n",
        "sample_mean"
      ],
      "metadata": {
        "colab": {
          "base_uri": "https://localhost:8080/"
        },
        "id": "tbMb5E6cN7so",
        "outputId": "e33622f2-1790-4f99-abbb-49ef0848e975"
      },
      "execution_count": 88,
      "outputs": [
        {
          "output_type": "execute_result",
          "data": {
            "text/plain": [
              "1.2386666666666666"
            ]
          },
          "metadata": {},
          "execution_count": 88
        }
      ]
    },
    {
      "cell_type": "code",
      "source": [
        "#sample length\n",
        "sapmle_len=len(sample)\n",
        "sapmle_len"
      ],
      "metadata": {
        "colab": {
          "base_uri": "https://localhost:8080/"
        },
        "id": "yexMZEtPLrgs",
        "outputId": "49eb0186-4c80-4353-8ccc-eeeddc0d890e"
      },
      "execution_count": 89,
      "outputs": [
        {
          "output_type": "execute_result",
          "data": {
            "text/plain": [
              "15"
            ]
          },
          "metadata": {},
          "execution_count": 89
        }
      ]
    },
    {
      "cell_type": "code",
      "source": [
        "#population standard deviation\n",
        "population_std = 0.2"
      ],
      "metadata": {
        "id": "7B5qmUO-N9iB"
      },
      "execution_count": 90,
      "outputs": []
    },
    {
      "cell_type": "code",
      "source": [
        "##confidence intervel and dof\n",
        "confidence_level = 0.99\n",
        "degrees_of_freedom = sapmle_len - 1"
      ],
      "metadata": {
        "id": "HgE5CikUOMdR"
      },
      "execution_count": 91,
      "outputs": []
    },
    {
      "cell_type": "code",
      "source": [
        "# Critical Z value\n",
        "z_value = stats.norm.ppf((1 + confidence_level) / 2)\n",
        "z_value"
      ],
      "metadata": {
        "colab": {
          "base_uri": "https://localhost:8080/"
        },
        "id": "5bNyJOTGOU9B",
        "outputId": "a85f22ba-66c0-48a0-9501-ab0c4e0b4f58"
      },
      "execution_count": 92,
      "outputs": [
        {
          "output_type": "execute_result",
          "data": {
            "text/plain": [
              "2.5758293035489004"
            ]
          },
          "metadata": {},
          "execution_count": 92
        }
      ]
    },
    {
      "cell_type": "code",
      "source": [
        "# Margin of Error\n",
        "margin_of_error = z_value * (population_std / np.sqrt(sample_len))\n",
        "margin_of_error"
      ],
      "metadata": {
        "colab": {
          "base_uri": "https://localhost:8080/"
        },
        "id": "j0D3DbpqO1cd",
        "outputId": "05ffe01b-dc72-4bf1-b45f-6b9e42421d60"
      },
      "execution_count": 93,
      "outputs": [
        {
          "output_type": "execute_result",
          "data": {
            "text/plain": [
              "0.13301525327090588"
            ]
          },
          "metadata": {},
          "execution_count": 93
        }
      ]
    },
    {
      "cell_type": "code",
      "source": [
        "# Confidence Interval\n",
        "lower_bound = sample_mean - margin_of_error\n",
        "upper_bound = sample_mean + margin_of_error\n",
        "\n",
        "print(f\"Confidence Interval: ({lower_bound}, {upper_bound})\")"
      ],
      "metadata": {
        "colab": {
          "base_uri": "https://localhost:8080/"
        },
        "id": "3dLy5VIIO8YR",
        "outputId": "b63328d5-a459-4dc8-b686-b35b3a39a192"
      },
      "execution_count": 94,
      "outputs": [
        {
          "output_type": "stream",
          "name": "stdout",
          "text": [
            "Confidence Interval: (1.1056514133957607, 1.3716819199375725)\n"
          ]
        }
      ]
    },
    {
      "cell_type": "code",
      "source": [
        "#Findings\n",
        "'''\n",
        "With 99% confidence, the true mean durability of print-heads lies between 1.1056 million and 1.3717 million characters,\n",
        "assuming the population standard deviation is known to be 0.2 million.\n",
        "'''"
      ],
      "metadata": {
        "colab": {
          "base_uri": "https://localhost:8080/",
          "height": 53
        },
        "id": "Qd8r5fU5PmX1",
        "outputId": "c4e7979d-0811-4f65-fdf7-291e8c6bb974"
      },
      "execution_count": 95,
      "outputs": [
        {
          "output_type": "execute_result",
          "data": {
            "text/plain": [
              "'\\nWith 99% confidence, the true mean durability of print-heads lies between 1.1056 million and 1.3717 million characters, \\nassuming the population standard deviation is known to be 0.2 million.\\n'"
            ],
            "application/vnd.google.colaboratory.intrinsic+json": {
              "type": "string"
            }
          },
          "metadata": {},
          "execution_count": 95
        }
      ]
    }
  ]
}